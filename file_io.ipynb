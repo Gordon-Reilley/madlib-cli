{
 "cells": [
  {
   "cell_type": "markdown",
   "source": [
    "# Hello from a Jupyter Notebook!"
   ],
   "metadata": {
    "collapsed": false
   }
  },
  {
   "cell_type": "code",
   "execution_count": 2,
   "outputs": [
    {
     "name": "stdout",
     "output_type": "stream",
     "text": [
      "hello world!\n"
     ]
    }
   ],
   "source": [
    "# and do python\n",
    "\n",
    "print(\"hello world!\")\n"
   ],
   "metadata": {
    "collapsed": false
   }
  },
  {
   "cell_type": "code",
   "execution_count": 4,
   "outputs": [
    {
     "name": "stdout",
     "output_type": "stream",
     "text": [
      "It was a {Adjective} and {Adjective} {Noun}.\n"
     ]
    }
   ],
   "source": [
    "with open('examples/short_ex.txt') as f:\n",
    "    contents = f.read()\n",
    "\n",
    "\n",
    "with open('examples/short_ex.txt', mode='a') as f:\n",
    "    f.write('test')\n",
    "    print(contents)\n"
   ],
   "metadata": {
    "collapsed": false
   }
  }
 ],
 "metadata": {
  "kernelspec": {
   "display_name": "Python 3",
   "language": "python",
   "name": "python3"
  },
  "language_info": {
   "codemirror_mode": {
    "name": "ipython",
    "version": 2
   },
   "file_extension": ".py",
   "mimetype": "text/x-python",
   "name": "python",
   "nbconvert_exporter": "python",
   "pygments_lexer": "ipython2",
   "version": "2.7.6"
  }
 },
 "nbformat": 4,
 "nbformat_minor": 0
}
